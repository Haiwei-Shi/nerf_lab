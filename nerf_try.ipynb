{
 "cells": [
  {
   "cell_type": "code",
   "execution_count": 3,
   "metadata": {},
   "outputs": [
    {
     "name": "stdout",
     "output_type": "stream",
     "text": [
      "[-4.23616366e-03  9.99376307e-01 -3.50578491e-02 -6.21370624e-01\n",
      "  3.84000000e+03  9.99975769e-01  4.42716426e-03  5.37232195e-03\n",
      "  4.82524903e-01  2.16000000e+03  5.52417812e-03 -3.50342416e-02\n",
      " -9.99370845e-01 -3.19045144e+00  3.27237955e+03  2.77051794e+00\n",
      "  5.10004568e+01]\n"
     ]
    }
   ],
   "source": [
    "import numpy as np\n",
    "\n",
    "# Load the .npy file\n",
    "data = np.load(\"data/flower/poses_bounds.npy\")\n",
    "\n",
    "# Print the data\n",
    "print(data[1])\n"
   ]
  },
  {
   "cell_type": "code",
   "execution_count": null,
   "metadata": {},
   "outputs": [],
   "source": []
  }
 ],
 "metadata": {
  "kernelspec": {
   "display_name": "nerf_tf2",
   "language": "python",
   "name": "python3"
  },
  "language_info": {
   "codemirror_mode": {
    "name": "ipython",
    "version": 3
   },
   "file_extension": ".py",
   "mimetype": "text/x-python",
   "name": "python",
   "nbconvert_exporter": "python",
   "pygments_lexer": "ipython3",
   "version": "3.7.12"
  }
 },
 "nbformat": 4,
 "nbformat_minor": 2
}
